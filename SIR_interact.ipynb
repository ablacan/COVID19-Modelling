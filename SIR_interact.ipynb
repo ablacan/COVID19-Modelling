{
 "cells": [
  {
   "cell_type": "markdown",
   "id": "interesting-speaker",
   "metadata": {},
   "source": [
    "# Simple SIR/SEIR simulation for France (without deaths)\n",
    "---"
   ]
  },
  {
   "cell_type": "code",
   "execution_count": 90,
   "id": "crucial-property",
   "metadata": {},
   "outputs": [],
   "source": [
    "from __future__ import division # always-float division\n",
    "import numpy as np\n",
    "import pandas as pd\n",
    "import glob\n",
    "import pprint\n",
    "import os\n",
    "import requests\n",
    "from datetime import date\n",
    "\n",
    "# Easy interactive plots\n",
    "import plotly.graph_objects as go\n",
    "import matplotlib.pyplot as plt\n",
    "\n",
    "# Interactive plots in notebook\n",
    "from IPython.display import HTML, Image, display\n",
    "from ipywidgets.widgets import interact, IntSlider, FloatSlider, Layout, ToggleButton, ToggleButtons, fixed, Checkbox\n",
    "\n",
    "# Maths\n",
    "from scipy.integrate import odeint\n",
    "import scipy.signal.windows as window\n",
    "from sklearn.preprocessing import normalize\n",
    "import scipy.stats as stats\n",
    "\n",
    "#Import from utils\n",
    "from utils import *\n"
   ]
  },
  {
   "cell_type": "code",
   "execution_count": 91,
   "id": "union-wisdom",
   "metadata": {},
   "outputs": [],
   "source": [
    "# Relative path to EPI data folder\n",
    "DATA_PATH = './data/clean/EPI'\n",
    "# Download OWID & Santé Publique data, write new file if new date\n",
    "existing = glob.glob(DATA_PATH+\"/*\"+str(date.today())+\".csv\")"
   ]
  },
  {
   "cell_type": "code",
   "execution_count": 92,
   "id": "alien-windsor",
   "metadata": {},
   "outputs": [
    {
     "name": "stdout",
     "output_type": "stream",
     "text": [
      "Downloaded Our World In Data Coronavirus data to \n",
      "\t./data/clean/EPI/owid_2021-04-14.csv\n"
     ]
    }
   ],
   "source": [
    "owid_file = update_owid(DATA_PATH)"
   ]
  },
  {
   "cell_type": "markdown",
   "id": "accessible-mechanics",
   "metadata": {},
   "source": [
    "### Fonctions"
   ]
  },
  {
   "cell_type": "code",
   "execution_count": 93,
   "id": "accurate-daniel",
   "metadata": {},
   "outputs": [],
   "source": [
    "def country_covid(country, owid_file):\n",
    "    \"\"\"\n",
    "    Extracts 'country' time series from OWID database saved in 'owid_file'. Can add hospital data if 'country'==France and 'hosp_file' is specified.\n",
    "    Time series starts when infected are positive\n",
    "    \"\"\"\n",
    "    # Get ISO-3 code for country to later use as index for OWID database\n",
    "    try:\n",
    "        code = pycountry.countries.search_fuzzy(country)[0].alpha_3\n",
    "    except LookupError:\n",
    "        print(f'{country} not found in country dictionary.')\n",
    "        return\n",
    "    \n",
    "    covid_data, country_attrs = extract_owid(owid_file, country_code=code)\n",
    "    \n",
    "    covid_data = covid_data.sort_values(by='date')\n",
    "    covid_data = covid_data.reset_index(drop=True)\n",
    "    # Oldest EPI values are all 0 (I, R, D)\n",
    "    covid_data.loc[0, covid_data.columns != 'date'] = covid_data.loc[0, covid_data.columns != 'date'].apply(lambda x: 0)\n",
    "    # Forward-fill NaN: old value is maintained until not-NaN value\n",
    "    covid_data.ffill(axis=0, inplace=True)\n",
    "    # Rename columns\n",
    "    covid_data.columns = ['date', 'I', 'D', 's']\n",
    "    # Compute S\n",
    "    #covid_data['S'] = country_attrs['population'] - covid_data['I'] - covid_data['D']\n",
    "    covid_data['S'] = country_attrs['population'] - covid_data['I'] \n",
    "    covid_data = covid_data[covid_data['I'] > 0]\n",
    "    covid_data.reset_index(drop=True, inplace=True)\n",
    "    covid_data['N_effective'] = country_attrs['population'] - covid_data['D']\n",
    "    covid_data.bfill(axis=0, inplace=True)\n",
    "\n",
    "    return covid_data, country_attrs"
   ]
  },
  {
   "cell_type": "code",
   "execution_count": 94,
   "id": "innovative-shark",
   "metadata": {},
   "outputs": [],
   "source": [
    "def get_data(country):\n",
    "    \n",
    "    EPI_data, country_attrs = country_covid(country, owid_file)\n",
    "    df = EPI_data.drop(['N_effective'], axis=1).reindex(columns=['date', 'S', 'I', 'R','D', 's'])\n",
    "    df.ffill(axis=0, inplace=True)\n",
    "    df.bfill(axis=0, inplace=True)\n",
    "    df.R.fillna(0, inplace=True)\n",
    "    \n",
    "    #Return an array of cumulated infected cases\n",
    "    return df.loc[0:107, ['I']].values.ravel()"
   ]
  },
  {
   "cell_type": "markdown",
   "id": "aggregate-sally",
   "metadata": {},
   "source": [
    "## Model and Interactive plot"
   ]
  },
  {
   "cell_type": "code",
   "execution_count": 95,
   "id": "persistent-democracy",
   "metadata": {},
   "outputs": [],
   "source": [
    "import ipywidgets as widgets\n",
    "from ipywidgets import interact"
   ]
  },
  {
   "cell_type": "code",
   "execution_count": 96,
   "id": "ancient-methodology",
   "metadata": {},
   "outputs": [],
   "source": [
    "%matplotlib inline\n",
    "#%matplotlib widget"
   ]
  },
  {
   "cell_type": "code",
   "execution_count": 97,
   "id": "interesting-jungle",
   "metadata": {},
   "outputs": [],
   "source": [
    "france_data = get_data('France')"
   ]
  },
  {
   "cell_type": "code",
   "execution_count": 98,
   "id": "respiratory-quality",
   "metadata": {},
   "outputs": [],
   "source": [
    "\"\"\"Main function\"\"\"\n",
    "def simulation_SIR(beta, gamma, sigma=None, SEIR=False):\n",
    "    \n",
    "    def ODE(start_values, t, beta, gamma, sigma = None, SEIR=False):\n",
    "    \n",
    "        if SEIR:\n",
    "            S, E, I, R = start_values\n",
    "            N = S + E + I + R\n",
    "            \n",
    "            #Compartment derivatives\n",
    "            dSdt = -beta*I*S/N\n",
    "            dEdt = beta*I*S/N - sigma*E\n",
    "            dIdt = sigma*E - gamma*I\n",
    "            dRdt = gamma*I\n",
    "            return [dSdt, dEdt, dIdt, dRdt]\n",
    "        \n",
    "        elif not SEIR:\n",
    "            S, I, R = start_values\n",
    "            N = S + I + R\n",
    "\n",
    "            #Compartment derivatives\n",
    "            dSdt = -beta*I*S/N\n",
    "            dIdt = beta*I*S/N - gamma*I\n",
    "            dRdt = gamma*I\n",
    "            return [dSdt, dIdt, dRdt]\n",
    "\n",
    "    #Initialization\n",
    "    #Init number of days\n",
    "    nb_days = 108\n",
    "    \n",
    "    #Init population (subset of total French population)\n",
    "    pop = country_attrs['population']/350\n",
    "    \n",
    "    if SEIR:\n",
    "        initE, initI, initR, initN = [1.0, 3.0, 0.0, pop]\n",
    "        # initial Susceptible\n",
    "        initS = initN - (initE + initI + initR)\n",
    "\n",
    "        S_final = [initS]\n",
    "        E_final = [initE]\n",
    "        I_final = [initI]\n",
    "        R_final = [initR]\n",
    "\n",
    "        inputs = (initS, initE, initI, initR)\n",
    "        \n",
    "    elif not SEIR:\n",
    "        initI, initR, initN = [3.0, 0.0, pop]\n",
    "        # initial Susceptible\n",
    "        initS = initN - (initI + initR)\n",
    "\n",
    "        S_final = [initS]\n",
    "        I_final = [initI]\n",
    "        R_final = [initR]\n",
    "\n",
    "        inputs = (initS, initI, initR)\n",
    "    \n",
    "    #Init cumulative cases\n",
    "    cases_cumul = [initI]\n",
    "    \n",
    "    #Timeline\n",
    "    tspan = np.arange(1, nb_days+1, 1)\n",
    "    \n",
    "    #Solve equa diff system\n",
    "    if SEIR:\n",
    "        res = odeint(ODE, [initS, initE, initI, initR], tspan, args=(beta, gamma, sigma, SEIR))\n",
    "\n",
    "        S_final, E_final, I_final, R_final = res[:,0], res[:,1], res[:,2], res[:,3]\n",
    "\n",
    "        #Compute difference \n",
    "        deriv_S = list(np.diff(S_final,1))\n",
    "        deriv_E = list(np.diff(E_final,1))\n",
    "\n",
    "        #Compute additional infected cases\n",
    "        increment = deriv_E - np.abs(deriv_S)\n",
    "\n",
    "        for i in range(nb_days-1):\n",
    "            cases_cumul.append(cases_cumul[i] + np.abs(increment[i]))\n",
    "\n",
    "    elif not SEIR:\n",
    "        res = odeint(ODE, [initS, initI, initR], tspan, args=(beta, gamma, SEIR))\n",
    "\n",
    "        S_final, I_final, R_final = res[:,0], res[:,1], res[:,2]\n",
    "\n",
    "        #Compute difference \n",
    "        deriv_S = list(np.diff(S_final,1))\n",
    "\n",
    "        #Compute additional infected cases\n",
    "        for i in range(nb_days-1):\n",
    "            cases_cumul.append(cases_cumul[i]+np.abs(deriv_S[i]))\n",
    "        \n",
    "    bbox = dict(boxstyle=\"round\", fc=\"0.8\")\n",
    "    fig = go.Figure()\n",
    "    fig.add_trace(go.Scatter(x=tspan, y=S_final, mode='lines', name='S',\n",
    "                 line = dict(color='royalblue', width=4), opacity=0.45))\n",
    "    if SEIR:\n",
    "        fig.add_trace(go.Scatter(x=tspan, y=E_final, mode='lines', name='E',\n",
    "                     line = dict(color='purple', width=4), opacity=0.45))\n",
    "    fig.add_trace(go.Scatter(x=tspan, y=I_final, mode='lines', name='I',\n",
    "                 line = dict(color='red', width=4), opacity=0.45))\n",
    "    fig.add_trace(go.Scatter(x=tspan, y=R_final, mode='lines', name='R', \n",
    "                             line = dict(color='green', width=4), opacity=0.45))\n",
    "    fig.add_trace(go.Scatter(x=tspan, y=cases_cumul, mode='lines+markers', name='Cumulated infections',\n",
    "                 line = dict(color='orange', width=3.5)))\n",
    "    fig.add_trace(go.Scatter(x=tspan, y=france_data, mode='lines', name='FRA observed infections',\n",
    "                 line = dict(color='darkorange', width=3.5, dash='dash'), opacity=0.8))\n",
    "    \n",
    "    fig.update_layout(title='Compartmental model',\n",
    "                        title_font_family=\"Times New Roman\",\n",
    "                           xaxis_title='Days after first infected',\n",
    "                           yaxis_title='Counts',\n",
    "                           title_x=0.4,\n",
    "                          width=950, height=600,\n",
    "                     legend=dict(y=0.5, font_size=14),\n",
    "                     font=dict(family=\"Courier New, monospace\", size=15,color=\"black\"))\n",
    "    \n",
    "    img_bytes = fig.to_image(format=\"png\")\n",
    "    display(Image(img_bytes))\n",
    "    #fig.show()"
   ]
  },
  {
   "cell_type": "code",
   "execution_count": 99,
   "id": "automated-purse",
   "metadata": {
    "scrolled": false
   },
   "outputs": [
    {
     "data": {
      "application/vnd.jupyter.widget-view+json": {
       "model_id": "b7686af9671149ef9aafda156624c17f",
       "version_major": 2,
       "version_minor": 0
      },
      "text/plain": [
       "interactive(children=(FloatSlider(value=0.5, description='beta', max=3.0, min=0.0001, step=0.01), FloatSlider(…"
      ]
     },
     "metadata": {},
     "output_type": "display_data"
    },
    {
     "data": {
      "text/plain": [
       "<function __main__.simulation_SIR(beta, gamma, sigma=None, SEIR=False)>"
      ]
     },
     "execution_count": 99,
     "metadata": {},
     "output_type": "execute_result"
    }
   ],
   "source": [
    "interact(simulation_SIR, \n",
    "         #Input widgets\n",
    "         beta=widgets.FloatSlider(min=0.0001, max=3.0, step=0.01, value=0.5), \n",
    "         gamma=widgets.FloatSlider(min=0.0001, max=1.5, step=0.01, value=0.1),\n",
    "         sigma=widgets.FloatSlider(min=0.0001, max=1.0, step=0.01, value=0.1),\n",
    "         SEIR=True)"
   ]
  }
 ],
 "metadata": {
  "kernelspec": {
   "display_name": "Python 3",
   "language": "python",
   "name": "python3"
  },
  "language_info": {
   "codemirror_mode": {
    "name": "ipython",
    "version": 3
   },
   "file_extension": ".py",
   "mimetype": "text/x-python",
   "name": "python",
   "nbconvert_exporter": "python",
   "pygments_lexer": "ipython3",
   "version": "3.7.10"
  }
 },
 "nbformat": 4,
 "nbformat_minor": 5
}
